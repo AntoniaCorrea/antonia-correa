{
  "nbformat": 4,
  "nbformat_minor": 0,
  "metadata": {
    "colab": {
      "provenance": []
    },
    "kernelspec": {
      "name": "python3",
      "display_name": "Python 3"
    },
    "language_info": {
      "name": "python"
    }
  },
  "cells": [
    {
      "cell_type": "markdown",
      "source": [
        "#TAREA 02  \n",
        "## Antonia Correa ##"
      ],
      "metadata": {
        "id": "Rg2e7geMK-Si"
      }
    },
    {
      "cell_type": "code",
      "execution_count": 35,
      "metadata": {
        "colab": {
          "base_uri": "https://localhost:8080/"
        },
        "id": "NfoB-IKO3U06",
        "outputId": "f079dc30-7431-4c01-9a96-40d788db6312"
      },
      "outputs": [
        {
          "output_type": "stream",
          "name": "stdout",
          "text": [
            "1\n",
            "2\n",
            "3\n",
            "4\n",
            "5\n",
            "6\n",
            "7\n",
            "8\n",
            "9\n",
            "10\n",
            "11\n",
            "12\n",
            "13\n",
            "14\n",
            "15\n",
            "16\n",
            "17\n",
            "18\n",
            "19\n",
            "20\n",
            "21\n",
            "22\n",
            "23\n",
            "24\n",
            "25\n",
            "26\n",
            "27\n",
            "28\n",
            "29\n",
            "30\n",
            "31\n",
            "32\n",
            "33\n",
            "34\n",
            "35\n",
            "36\n",
            "37\n",
            "38\n",
            "39\n",
            "40\n",
            "41\n",
            "42\n",
            "43\n",
            "44\n",
            "45\n",
            "46\n",
            "47\n",
            "48\n",
            "49\n",
            "50\n",
            "51\n",
            "52\n",
            "53\n",
            "54\n",
            "55\n",
            "56\n",
            "57\n",
            "58\n",
            "59\n",
            "60\n",
            "61\n",
            "62\n",
            "63\n",
            "64\n",
            "65\n",
            "66\n",
            "67\n",
            "68\n",
            "69\n",
            "70\n",
            "71\n",
            "72\n",
            "73\n",
            "74\n",
            "75\n",
            "76\n",
            "77\n",
            "78\n",
            "79\n",
            "80\n",
            "81\n",
            "82\n",
            "83\n",
            "84\n",
            "85\n",
            "86\n",
            "87\n",
            "88\n",
            "89\n",
            "90\n",
            "91\n",
            "92\n",
            "93\n",
            "94\n",
            "95\n",
            "96\n",
            "97\n",
            "98\n",
            "99\n",
            "100\n"
          ]
        }
      ],
      "source": [
        "#problema 1\n",
        "for numero in range (1, 101): #genera una secuencia de 1 a 101\n",
        "\n",
        "  print(numero) #imprime la variable numero\n",
        "\n",
        "\n"
      ]
    },
    {
      "cell_type": "markdown",
      "source": [],
      "metadata": {
        "id": "cRW3MpQOF8CA"
      }
    },
    {
      "cell_type": "code",
      "source": [
        "#Problema 2\n",
        "i = range (1, 101) #genera la secuencia del 1 al 100\n",
        "for i in range(1, 101): #recorre la secuencia\n",
        "  if i % 3 == 0: # si la variable i es el resto de la division es igual a 0\n",
        "    print(i) #imprime la variable i\n",
        "\n",
        ""
      ],
      "metadata": {
        "colab": {
          "base_uri": "https://localhost:8080/"
        },
        "id": "vqzkLxVM5Cqn",
        "outputId": "dc6a501d-cd4f-45db-e4bf-8f481e1ca866"
      },
      "execution_count": 19,
      "outputs": [
        {
          "output_type": "stream",
          "name": "stdout",
          "text": [
            "3\n",
            "6\n",
            "9\n",
            "12\n",
            "15\n",
            "18\n",
            "21\n",
            "24\n",
            "27\n",
            "30\n",
            "33\n",
            "36\n",
            "39\n",
            "42\n",
            "45\n",
            "48\n",
            "51\n",
            "54\n",
            "57\n",
            "60\n",
            "63\n",
            "66\n",
            "69\n",
            "72\n",
            "75\n",
            "78\n",
            "81\n",
            "84\n",
            "87\n",
            "90\n",
            "93\n",
            "96\n",
            "99\n"
          ]
        }
      ]
    },
    {
      "cell_type": "code",
      "source": [
        "#problema 3\n",
        "numero1 = 100 #se asigna un 100 a la variable 1\n",
        "numero2 = 20 # se asigna un 20 a la variable 2\n",
        "suma = numero1 + numero2 # suma los numeros 1 y 2\n",
        "\n",
        "if suma < 100: # valida si la suma es menor a 100\n",
        "  print(\"la suma es menor a 100\") #imprime la respuesta si es que es menor a 100\n",
        "else: # en cambio\n",
        "  if suma > 100 and suma < 150: # valida si la suma es mayor a 100 y menor que 150\n",
        "    print(\"la suma está entre 100 y 150\") #imprime la respuesta si es que está entre 101 y 150\n",
        "  else: # y en cambio\n",
        "      print(\"la suma es mayor a 150\") #imprime la respuesta si es que la suma es mayor a 150"
      ],
      "metadata": {
        "colab": {
          "base_uri": "https://localhost:8080/"
        },
        "id": "V350p0TX6S1I",
        "outputId": "d1a0a172-1c2d-4ff6-c1ce-2316801ff5af"
      },
      "execution_count": 22,
      "outputs": [
        {
          "output_type": "stream",
          "name": "stdout",
          "text": [
            "la suma está entre 100 y 150\n"
          ]
        }
      ]
    },
    {
      "cell_type": "code",
      "source": [
        "# problema 4\n",
        "edad = 21 #asigna a la variable edad el numero 20\n",
        "gusta_programar = False # asigna a la variable me gusta progamar, el valor false\n",
        "\n",
        "if edad > 18 and gusta_programar == True: #condiciona el valor mayor a 18 y la opcion gusta programar a TRUE\n",
        "  print(\"Eres mayor de 18 años y te gusta programar\") #imprime la respuesta en caso de ser mayor de 18 y que te guste programar\n",
        "else: #y en cambio si no es así da la opcion\n",
        "  print(\"Eres mayor de 18 años y no te gusta programar\") #imprime la respuesta eres mayor de 18 y no te gusta programar\n",
        "\n"
      ],
      "metadata": {
        "colab": {
          "base_uri": "https://localhost:8080/"
        },
        "id": "13gOxTig9AiK",
        "outputId": "9f099838-5277-48a4-93d8-6e1e6b4b5cd6"
      },
      "execution_count": 29,
      "outputs": [
        {
          "output_type": "stream",
          "name": "stdout",
          "text": [
            "Eres mayor de 18 años y no te gusta programar\n"
          ]
        }
      ]
    }
  ]
}