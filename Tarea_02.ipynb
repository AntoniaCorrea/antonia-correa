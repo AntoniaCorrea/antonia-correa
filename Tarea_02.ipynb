{
  "nbformat": 4,
  "nbformat_minor": 0,
  "metadata": {
    "colab": {
      "provenance": []
    },
    "kernelspec": {
      "name": "python3",
      "display_name": "Python 3"
    },
    "language_info": {
      "name": "python"
    }
  },
  "cells": [
    {
      "cell_type": "code",
      "execution_count": 1,
      "metadata": {
        "colab": {
          "base_uri": "https://localhost:8080/"
        },
        "id": "NfoB-IKO3U06",
        "outputId": "5d43fdc3-12ad-4bba-a99b-ea910b1c51b4"
      },
      "outputs": [
        {
          "output_type": "stream",
          "name": "stdout",
          "text": [
            "1\n",
            "2\n",
            "3\n",
            "4\n",
            "5\n",
            "6\n",
            "7\n",
            "8\n",
            "9\n",
            "10\n",
            "11\n",
            "12\n",
            "13\n",
            "14\n",
            "15\n",
            "16\n",
            "17\n",
            "18\n",
            "19\n",
            "20\n",
            "21\n",
            "22\n",
            "23\n",
            "24\n",
            "25\n",
            "26\n",
            "27\n",
            "28\n",
            "29\n",
            "30\n",
            "31\n",
            "32\n",
            "33\n",
            "34\n",
            "35\n",
            "36\n",
            "37\n",
            "38\n",
            "39\n",
            "40\n",
            "41\n",
            "42\n",
            "43\n",
            "44\n",
            "45\n",
            "46\n",
            "47\n",
            "48\n",
            "49\n",
            "50\n",
            "51\n",
            "52\n",
            "53\n",
            "54\n",
            "55\n",
            "56\n",
            "57\n",
            "58\n",
            "59\n",
            "60\n",
            "61\n",
            "62\n",
            "63\n",
            "64\n",
            "65\n",
            "66\n",
            "67\n",
            "68\n",
            "69\n",
            "70\n",
            "71\n",
            "72\n",
            "73\n",
            "74\n",
            "75\n",
            "76\n",
            "77\n",
            "78\n",
            "79\n",
            "80\n",
            "81\n",
            "82\n",
            "83\n",
            "84\n",
            "85\n",
            "86\n",
            "87\n",
            "88\n",
            "89\n",
            "90\n",
            "91\n",
            "92\n",
            "93\n",
            "94\n",
            "95\n",
            "96\n",
            "97\n",
            "98\n",
            "99\n",
            "100\n"
          ]
        }
      ],
      "source": [
        "for numero in range (1, 101): #genera un ciclo de numeros del 1 al 100 con la variable número, que se ejecuta hasta el 100\n",
        "  print (numero) #imprime el numero según la secuencia\n",
        "\n"
      ]
    },
    {
      "cell_type": "code",
      "source": [
        "for numero in range (1, 101): # genera un ciclo de numeros del 1 al 100 con la variable numero\n",
        "  if numero % 3 == 0: #condiciona si el resto del numero es 0 al dividirlo por 3\n",
        "    print (numero) #imprime el resultado segun la secuencia\n"
      ],
      "metadata": {
        "colab": {
          "base_uri": "https://localhost:8080/"
        },
        "id": "vqzkLxVM5Cqn",
        "outputId": "1c31be5a-5a10-4b78-b81e-7d22d346fa0c"
      },
      "execution_count": 4,
      "outputs": [
        {
          "output_type": "stream",
          "name": "stdout",
          "text": [
            "3\n",
            "6\n",
            "9\n",
            "12\n",
            "15\n",
            "18\n",
            "21\n",
            "24\n",
            "27\n",
            "30\n",
            "33\n",
            "36\n",
            "39\n",
            "42\n",
            "45\n",
            "48\n",
            "51\n",
            "54\n",
            "57\n",
            "60\n",
            "63\n",
            "66\n",
            "69\n",
            "72\n",
            "75\n",
            "78\n",
            "81\n",
            "84\n",
            "87\n",
            "90\n",
            "93\n",
            "96\n",
            "99\n"
          ]
        }
      ]
    },
    {
      "cell_type": "code",
      "source": [
        "# Solicita al usuario que ingrese los dos números\n",
        "num1 = float(input(\"Ingrese el primer número: \"))\n",
        "num2 = float(input(\"Ingrese el segundo número: \"))\n",
        "\n",
        "# Calcula la suma\n",
        "suma = num1 + num2\n",
        "\n",
        "# Compara el resultado de la suma\n",
        "if suma < 100: # pregunta si la suma es menor a 100\n",
        "    print(\"menor a 100\") #imprime si cumple la condicion\n",
        "elif suma >= 100 and suma < 150: # pregunta si la suma es menor a 150 y mayor o igual a 100\n",
        "    print(\"mayor a 100\") #imprime si se cumple la condicion\n",
        "else:\n",
        "    print(\"mayor a 150\") #imprime si no se cumple ninguna de las condiciones anteriores\n"
      ],
      "metadata": {
        "colab": {
          "base_uri": "https://localhost:8080/"
        },
        "id": "V350p0TX6S1I",
        "outputId": "df03ae19-7b9d-4d80-dd86-cf7edea3dc50"
      },
      "execution_count": 8,
      "outputs": [
        {
          "output_type": "stream",
          "name": "stdout",
          "text": [
            "Ingrese el primer número: 100\n",
            "Ingrese el segundo número: 20\n",
            "mayor a 100\n"
          ]
        }
      ]
    },
    {
      "cell_type": "code",
      "source": [
        "def evaluar_usuario(edad, le_gusta_programar):\n",
        "    # Condicionales para evaluar la edad y el gusto por la programación\n",
        "    if edad >= 18: # si la edad ingresada por el usuario es mayor o igual a 18\n",
        "        if le_gusta_programar: #pregunta si le gusta programar\n",
        "            return \"Eres mayor de edad y te gusta la programación. ¡Genial!\" # lo que le dice si la respuesta es si\n",
        "        else:\n",
        "            return \"Eres mayor de edad, pero no te gusta la programación. ¡Quizás deberías intentarlo!\" #lo que dice si la respuesta es no\n",
        "    else: # de lo contrario si no es mayor o igual a 18 años\n",
        "        if le_gusta_programar: # si le gusta programar\n",
        "            return \"Eres menor de edad, pero te gusta la programación. ¡Sigue aprendiendo!\" # si la respuesta es si, esto le responde\n",
        "        else: # pero en cambio\n",
        "            return \"Eres menor de edad y no te gusta la programación. ¡Explora otras áreas que te interesen!\" # si la respuesta es no, respondera esto\n",
        "\n",
        "# Solicita datos al usuario\n",
        "edad = int(input(\"¿Cuántos años tienes? \")) # pide que ingrese la edad\n",
        "le_gusta_programar_respuesta = input(\"¿Te gusta la programación? (sí/no): \").strip().lower() # ingresa la opcion si o no\n",
        "\n",
        "# Convierte la respuesta a un valor verdadero o falso\n",
        "le_gusta_programar = le_gusta_programar_respuesta == \"sí\"\n",
        "\n",
        "# Llama a la función y muestra el resultado\n",
        "resultado = evaluar_usuario(edad, le_gusta_programar)\n",
        "print(resultado)\n",
        "\n",
        "\n"
      ],
      "metadata": {
        "colab": {
          "base_uri": "https://localhost:8080/"
        },
        "id": "13gOxTig9AiK",
        "outputId": "2134692d-5e1e-4cc8-ffb8-9f696bcb6be3"
      },
      "execution_count": 11,
      "outputs": [
        {
          "output_type": "stream",
          "name": "stdout",
          "text": [
            "¿Cuántos años tienes? 20\n",
            "¿Te gusta la programación? (sí/no): no\n",
            "Eres mayor de edad, pero no te gusta la programación. ¡Quizás deberías intentarlo!\n"
          ]
        }
      ]
    }
  ]
}